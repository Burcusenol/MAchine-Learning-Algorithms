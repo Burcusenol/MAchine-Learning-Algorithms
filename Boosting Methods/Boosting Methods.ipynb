{
 "cells": [
  {
   "cell_type": "markdown",
   "metadata": {},
   "source": [
    "* The concept of **boosting** is not actually a machine learning algorithm,it is methodology _applied_ to an existing machine learning algorithm,most commonly applied to the desicion tree.\n",
    "\n",
    "* Implies that a combination of **estimators** with an applied **coefficient** could act as an effective **ensemble estimator**\n",
    "\n",
    "* **h(x)** can in theory be **any** machine learning algorithm (estimator/learner)\n",
    "\n"
   ]
  }
 ],
 "metadata": {
  "language_info": {
   "name": "python"
  },
  "orig_nbformat": 4
 },
 "nbformat": 4,
 "nbformat_minor": 2
}
