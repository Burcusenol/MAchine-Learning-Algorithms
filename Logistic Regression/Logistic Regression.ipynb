{
 "cells": [
  {
   "cell_type": "markdown",
   "metadata": {},
   "source": [
    "# Logistic Regression\n",
    "* How can we predict a categorical label?\n",
    "    * Logistic Regression\n",
    "\n",
    "* Logistic Regression is a **classification algorithm** designed to predict categorical target label.\n",
    "\n",
    "* Interpreting Results\n",
    "    * Odds Ratio and Coefficients\n",
    "    * Classification Metrics\n",
    "        * Accuracy\n",
    "        * Precision\n",
    "        * Recall\n",
    "    * ROC Curves"
   ]
  },
  {
   "cell_type": "code",
   "execution_count": null,
   "metadata": {},
   "outputs": [],
   "source": []
  },
  {
   "cell_type": "markdown",
   "metadata": {},
   "source": []
  }
 ],
 "metadata": {
  "language_info": {
   "name": "python"
  },
  "orig_nbformat": 4
 },
 "nbformat": 4,
 "nbformat_minor": 2
}
