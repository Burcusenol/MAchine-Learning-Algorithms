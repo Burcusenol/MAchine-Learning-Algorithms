{
 "cells": [
  {
   "cell_type": "markdown",
   "metadata": {},
   "source": [
    "# Supervised Learning\n",
    "\n",
    "* Supervised Learning\n",
    "    * Using historical **labeled** data,predict a label on new data(regression or classification)\n",
    "\n",
    "* Unsupersived Learning\n",
    "    * Using **unlabeled** data,discover patterns,clusters or significant components.\n",
    "    \n",
    "    * **Clustering:**\n",
    "        * Using features,group together data rows into distinct clusters\n",
    "    \n",
    "    * **Dimensionality Reduction:**\n",
    "        * Using features,discover how to combine and reduce into fewer components.\n",
    "\n"
   ]
  },
  {
   "cell_type": "markdown",
   "metadata": {},
   "source": []
  }
 ],
 "metadata": {
  "language_info": {
   "name": "python"
  },
  "orig_nbformat": 4
 },
 "nbformat": 4,
 "nbformat_minor": 2
}
