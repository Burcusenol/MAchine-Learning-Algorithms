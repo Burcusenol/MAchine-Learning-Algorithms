{
 "cells": [
  {
   "cell_type": "markdown",
   "metadata": {},
   "source": [
    "* Bayes' Theorem is a probability formula that leverages previously known probabilities to define probability of related events occuring.\n",
    "\n",
    "* ***P(A/B)= P(B/A).P(A) / P(B)***\n",
    "\n",
    "\n",
    "* p(Ck|x) =p(Ck).p(x|Ck)/p(x)\n",
    "* p(Ck|X)=p(Ck,x1,x2,..xn)/p(x)\n",
    "\n",
    " \n"
   ]
  }
 ],
 "metadata": {
  "language_info": {
   "name": "python"
  },
  "orig_nbformat": 4
 },
 "nbformat": 4,
 "nbformat_minor": 2
}
