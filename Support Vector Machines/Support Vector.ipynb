{
 "cells": [
  {
   "cell_type": "markdown",
   "metadata": {},
   "source": [
    "## Support Vector Machines\n",
    "* Hyperplanes and Margins\n",
    "    * In an N-dimensional space, a hyperplane is a flat affine subspace of hyperplane dimension N-1.\n",
    "    For Example:\n",
    "        * 1-D Hyperplane is a single point\n",
    "        * 2-D Hyperplane is a line\n",
    "        * 3-D Hyperplane is flat plane\n",
    "\n",
    "* The main idea behind SVM is that we can use Hyperplanes to create a seperation betwwen classes.\n",
    "* Then new points will fall on one side of this seperating hyperplane,which we can then use to assign a class.\n",
    "\n",
    "* This same idea of maximum margins applies to N-dimensions.\n",
    "* Soft margin allows for misclassification inside the margins.\n",
    "\n",
    "* SVMs use **kernels** to project the data to a higher dimension,in order to use a hyperplane in this higher dimension to separaae the data.\n",
    "\n",
    "\n",
    "## Kernel Intuition\n",
    "* Kernels allow us to move beyond a Support Vector Classifier and use Support Vector Machines.\n",
    "\n",
    "* There are a variety of kernles we can use to \"project\" the features to a higher dimension.\n"
   ]
  },
  {
   "cell_type": "code",
   "execution_count": null,
   "metadata": {},
   "outputs": [],
   "source": []
  }
 ],
 "metadata": {
  "language_info": {
   "name": "python"
  },
  "orig_nbformat": 4
 },
 "nbformat": 4,
 "nbformat_minor": 2
}
